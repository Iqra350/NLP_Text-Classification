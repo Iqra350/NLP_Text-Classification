{
  "nbformat": 4,
  "nbformat_minor": 0,
  "metadata": {
    "colab": {
      "provenance": [],
      "collapsed_sections": []
    },
    "kernelspec": {
      "name": "python3",
      "display_name": "Python 3"
    },
    "language_info": {
      "name": "python"
    },
    "accelerator": "GPU",
    "gpuClass": "standard"
  },
  "cells": [
    {
      "cell_type": "code",
      "source": [
        "import spacy\n",
        "import pandas as pd\n",
        "import numpy as np\n",
        "import matplotlib.pyplot as plt\n",
        "import seaborn as sns\n",
        "import string\n",
        "import re\n",
        "from sklearn.feature_extraction.text import TfidfVectorizer\n",
        "from sklearn.decomposition import PCA\n",
        "from sklearn.linear_model import LogisticRegression\n",
        "from sklearn.model_selection import train_test_split\n",
        "\n",
        "from sklearn.metrics import confusion_matrix\n",
        "from sklearn.metrics import classification_report\n",
        "from sklearn.manifold import TSNE\n",
        "import nltk\n",
        "from nltk.tokenize import word_tokenize\n",
        "from nltk.tokenize import sent_tokenize\n",
        "from nltk.stem import WordNetLemmatizer \n",
        "\n",
        "from imblearn.over_sampling import SMOTE"
      ],
      "metadata": {
        "id": "1RbZekG0e-_H"
      },
      "execution_count": 1,
      "outputs": []
    },
    {
      "cell_type": "code",
      "source": [
        "from google.colab import drive\n",
        "drive.mount('/content/drive')"
      ],
      "metadata": {
        "colab": {
          "base_uri": "https://localhost:8080/"
        },
        "id": "ekpmmisqfHJm",
        "outputId": "e9b6042c-2e73-412d-dec6-16601555065c"
      },
      "execution_count": 2,
      "outputs": [
        {
          "output_type": "stream",
          "name": "stdout",
          "text": [
            "Mounted at /content/drive\n"
          ]
        }
      ]
    },
    {
      "cell_type": "code",
      "source": [
        "df = pd.read_csv('/content/drive/MyDrive/Colab Notebooks/Data sets/Assignment Data.csv')"
      ],
      "metadata": {
        "id": "nsSQlyEux5A7"
      },
      "execution_count": 3,
      "outputs": []
    },
    {
      "cell_type": "code",
      "source": [
        "df.head()"
      ],
      "metadata": {
        "colab": {
          "base_uri": "https://localhost:8080/",
          "height": 704
        },
        "id": "oHtAg21vyu9k",
        "outputId": "b401d378-1e6c-4976-db0d-3340b1856ddf"
      },
      "execution_count": 4,
      "outputs": [
        {
          "output_type": "execute_result",
          "data": {
            "text/plain": [
              "   Unnamed: 0   country                                        description  \\\n",
              "0           0     Italy  Aromas include tropical fruit, broom, brimston...   \n",
              "1           1  Portugal  This is ripe and fruity, a wine that is smooth...   \n",
              "2           2        US  Tart and snappy, the flavors of lime flesh and...   \n",
              "3           3        US  Pineapple rind, lemon pith and orange blossom ...   \n",
              "4           4        US  Much like the regular bottling from 2012, this...   \n",
              "\n",
              "                          designation  points  price           province  \\\n",
              "0                        Vulkà Bianco      87    NaN  Sicily & Sardinia   \n",
              "1                            Avidagos      87   15.0              Douro   \n",
              "2                                 NaN      87   14.0             Oregon   \n",
              "3                Reserve Late Harvest      87   13.0           Michigan   \n",
              "4  Vintner's Reserve Wild Child Block      87   65.0             Oregon   \n",
              "\n",
              "              region_1           region_2         taster_name  \\\n",
              "0                 Etna                NaN       Kerin O’Keefe   \n",
              "1                  NaN                NaN          Roger Voss   \n",
              "2    Willamette Valley  Willamette Valley        Paul Gregutt   \n",
              "3  Lake Michigan Shore                NaN  Alexander Peartree   \n",
              "4    Willamette Valley  Willamette Valley        Paul Gregutt   \n",
              "\n",
              "  taster_twitter_handle                                              title  \\\n",
              "0          @kerinokeefe                  Nicosia 2013 Vulkà Bianco  (Etna)   \n",
              "1            @vossroger      Quinta dos Avidagos 2011 Avidagos Red (Douro)   \n",
              "2           @paulgwine       Rainstorm 2013 Pinot Gris (Willamette Valley)   \n",
              "3                   NaN  St. Julian 2013 Reserve Late Harvest Riesling ...   \n",
              "4           @paulgwine   Sweet Cheeks 2012 Vintner's Reserve Wild Child...   \n",
              "\n",
              "          variety               winery  Unnamed: 14  Unnamed: 15  Unnamed: 16  \n",
              "0     White Blend              Nicosia          NaN          NaN          NaN  \n",
              "1  Portuguese Red  Quinta dos Avidagos          NaN          NaN          NaN  \n",
              "2      Pinot Gris            Rainstorm          NaN          NaN          NaN  \n",
              "3        Riesling           St. Julian          NaN          NaN          NaN  \n",
              "4      Pinot Noir         Sweet Cheeks          NaN          NaN          NaN  "
            ],
            "text/html": [
              "\n",
              "  <div id=\"df-83d24c81-8c86-4ea2-a881-fc56c61c3642\">\n",
              "    <div class=\"colab-df-container\">\n",
              "      <div>\n",
              "<style scoped>\n",
              "    .dataframe tbody tr th:only-of-type {\n",
              "        vertical-align: middle;\n",
              "    }\n",
              "\n",
              "    .dataframe tbody tr th {\n",
              "        vertical-align: top;\n",
              "    }\n",
              "\n",
              "    .dataframe thead th {\n",
              "        text-align: right;\n",
              "    }\n",
              "</style>\n",
              "<table border=\"1\" class=\"dataframe\">\n",
              "  <thead>\n",
              "    <tr style=\"text-align: right;\">\n",
              "      <th></th>\n",
              "      <th>Unnamed: 0</th>\n",
              "      <th>country</th>\n",
              "      <th>description</th>\n",
              "      <th>designation</th>\n",
              "      <th>points</th>\n",
              "      <th>price</th>\n",
              "      <th>province</th>\n",
              "      <th>region_1</th>\n",
              "      <th>region_2</th>\n",
              "      <th>taster_name</th>\n",
              "      <th>taster_twitter_handle</th>\n",
              "      <th>title</th>\n",
              "      <th>variety</th>\n",
              "      <th>winery</th>\n",
              "      <th>Unnamed: 14</th>\n",
              "      <th>Unnamed: 15</th>\n",
              "      <th>Unnamed: 16</th>\n",
              "    </tr>\n",
              "  </thead>\n",
              "  <tbody>\n",
              "    <tr>\n",
              "      <th>0</th>\n",
              "      <td>0</td>\n",
              "      <td>Italy</td>\n",
              "      <td>Aromas include tropical fruit, broom, brimston...</td>\n",
              "      <td>Vulkà Bianco</td>\n",
              "      <td>87</td>\n",
              "      <td>NaN</td>\n",
              "      <td>Sicily &amp; Sardinia</td>\n",
              "      <td>Etna</td>\n",
              "      <td>NaN</td>\n",
              "      <td>Kerin O’Keefe</td>\n",
              "      <td>@kerinokeefe</td>\n",
              "      <td>Nicosia 2013 Vulkà Bianco  (Etna)</td>\n",
              "      <td>White Blend</td>\n",
              "      <td>Nicosia</td>\n",
              "      <td>NaN</td>\n",
              "      <td>NaN</td>\n",
              "      <td>NaN</td>\n",
              "    </tr>\n",
              "    <tr>\n",
              "      <th>1</th>\n",
              "      <td>1</td>\n",
              "      <td>Portugal</td>\n",
              "      <td>This is ripe and fruity, a wine that is smooth...</td>\n",
              "      <td>Avidagos</td>\n",
              "      <td>87</td>\n",
              "      <td>15.0</td>\n",
              "      <td>Douro</td>\n",
              "      <td>NaN</td>\n",
              "      <td>NaN</td>\n",
              "      <td>Roger Voss</td>\n",
              "      <td>@vossroger</td>\n",
              "      <td>Quinta dos Avidagos 2011 Avidagos Red (Douro)</td>\n",
              "      <td>Portuguese Red</td>\n",
              "      <td>Quinta dos Avidagos</td>\n",
              "      <td>NaN</td>\n",
              "      <td>NaN</td>\n",
              "      <td>NaN</td>\n",
              "    </tr>\n",
              "    <tr>\n",
              "      <th>2</th>\n",
              "      <td>2</td>\n",
              "      <td>US</td>\n",
              "      <td>Tart and snappy, the flavors of lime flesh and...</td>\n",
              "      <td>NaN</td>\n",
              "      <td>87</td>\n",
              "      <td>14.0</td>\n",
              "      <td>Oregon</td>\n",
              "      <td>Willamette Valley</td>\n",
              "      <td>Willamette Valley</td>\n",
              "      <td>Paul Gregutt</td>\n",
              "      <td>@paulgwine</td>\n",
              "      <td>Rainstorm 2013 Pinot Gris (Willamette Valley)</td>\n",
              "      <td>Pinot Gris</td>\n",
              "      <td>Rainstorm</td>\n",
              "      <td>NaN</td>\n",
              "      <td>NaN</td>\n",
              "      <td>NaN</td>\n",
              "    </tr>\n",
              "    <tr>\n",
              "      <th>3</th>\n",
              "      <td>3</td>\n",
              "      <td>US</td>\n",
              "      <td>Pineapple rind, lemon pith and orange blossom ...</td>\n",
              "      <td>Reserve Late Harvest</td>\n",
              "      <td>87</td>\n",
              "      <td>13.0</td>\n",
              "      <td>Michigan</td>\n",
              "      <td>Lake Michigan Shore</td>\n",
              "      <td>NaN</td>\n",
              "      <td>Alexander Peartree</td>\n",
              "      <td>NaN</td>\n",
              "      <td>St. Julian 2013 Reserve Late Harvest Riesling ...</td>\n",
              "      <td>Riesling</td>\n",
              "      <td>St. Julian</td>\n",
              "      <td>NaN</td>\n",
              "      <td>NaN</td>\n",
              "      <td>NaN</td>\n",
              "    </tr>\n",
              "    <tr>\n",
              "      <th>4</th>\n",
              "      <td>4</td>\n",
              "      <td>US</td>\n",
              "      <td>Much like the regular bottling from 2012, this...</td>\n",
              "      <td>Vintner's Reserve Wild Child Block</td>\n",
              "      <td>87</td>\n",
              "      <td>65.0</td>\n",
              "      <td>Oregon</td>\n",
              "      <td>Willamette Valley</td>\n",
              "      <td>Willamette Valley</td>\n",
              "      <td>Paul Gregutt</td>\n",
              "      <td>@paulgwine</td>\n",
              "      <td>Sweet Cheeks 2012 Vintner's Reserve Wild Child...</td>\n",
              "      <td>Pinot Noir</td>\n",
              "      <td>Sweet Cheeks</td>\n",
              "      <td>NaN</td>\n",
              "      <td>NaN</td>\n",
              "      <td>NaN</td>\n",
              "    </tr>\n",
              "  </tbody>\n",
              "</table>\n",
              "</div>\n",
              "      <button class=\"colab-df-convert\" onclick=\"convertToInteractive('df-83d24c81-8c86-4ea2-a881-fc56c61c3642')\"\n",
              "              title=\"Convert this dataframe to an interactive table.\"\n",
              "              style=\"display:none;\">\n",
              "        \n",
              "  <svg xmlns=\"http://www.w3.org/2000/svg\" height=\"24px\"viewBox=\"0 0 24 24\"\n",
              "       width=\"24px\">\n",
              "    <path d=\"M0 0h24v24H0V0z\" fill=\"none\"/>\n",
              "    <path d=\"M18.56 5.44l.94 2.06.94-2.06 2.06-.94-2.06-.94-.94-2.06-.94 2.06-2.06.94zm-11 1L8.5 8.5l.94-2.06 2.06-.94-2.06-.94L8.5 2.5l-.94 2.06-2.06.94zm10 10l.94 2.06.94-2.06 2.06-.94-2.06-.94-.94-2.06-.94 2.06-2.06.94z\"/><path d=\"M17.41 7.96l-1.37-1.37c-.4-.4-.92-.59-1.43-.59-.52 0-1.04.2-1.43.59L10.3 9.45l-7.72 7.72c-.78.78-.78 2.05 0 2.83L4 21.41c.39.39.9.59 1.41.59.51 0 1.02-.2 1.41-.59l7.78-7.78 2.81-2.81c.8-.78.8-2.07 0-2.86zM5.41 20L4 18.59l7.72-7.72 1.47 1.35L5.41 20z\"/>\n",
              "  </svg>\n",
              "      </button>\n",
              "      \n",
              "  <style>\n",
              "    .colab-df-container {\n",
              "      display:flex;\n",
              "      flex-wrap:wrap;\n",
              "      gap: 12px;\n",
              "    }\n",
              "\n",
              "    .colab-df-convert {\n",
              "      background-color: #E8F0FE;\n",
              "      border: none;\n",
              "      border-radius: 50%;\n",
              "      cursor: pointer;\n",
              "      display: none;\n",
              "      fill: #1967D2;\n",
              "      height: 32px;\n",
              "      padding: 0 0 0 0;\n",
              "      width: 32px;\n",
              "    }\n",
              "\n",
              "    .colab-df-convert:hover {\n",
              "      background-color: #E2EBFA;\n",
              "      box-shadow: 0px 1px 2px rgba(60, 64, 67, 0.3), 0px 1px 3px 1px rgba(60, 64, 67, 0.15);\n",
              "      fill: #174EA6;\n",
              "    }\n",
              "\n",
              "    [theme=dark] .colab-df-convert {\n",
              "      background-color: #3B4455;\n",
              "      fill: #D2E3FC;\n",
              "    }\n",
              "\n",
              "    [theme=dark] .colab-df-convert:hover {\n",
              "      background-color: #434B5C;\n",
              "      box-shadow: 0px 1px 3px 1px rgba(0, 0, 0, 0.15);\n",
              "      filter: drop-shadow(0px 1px 2px rgba(0, 0, 0, 0.3));\n",
              "      fill: #FFFFFF;\n",
              "    }\n",
              "  </style>\n",
              "\n",
              "      <script>\n",
              "        const buttonEl =\n",
              "          document.querySelector('#df-83d24c81-8c86-4ea2-a881-fc56c61c3642 button.colab-df-convert');\n",
              "        buttonEl.style.display =\n",
              "          google.colab.kernel.accessAllowed ? 'block' : 'none';\n",
              "\n",
              "        async function convertToInteractive(key) {\n",
              "          const element = document.querySelector('#df-83d24c81-8c86-4ea2-a881-fc56c61c3642');\n",
              "          const dataTable =\n",
              "            await google.colab.kernel.invokeFunction('convertToInteractive',\n",
              "                                                     [key], {});\n",
              "          if (!dataTable) return;\n",
              "\n",
              "          const docLinkHtml = 'Like what you see? Visit the ' +\n",
              "            '<a target=\"_blank\" href=https://colab.research.google.com/notebooks/data_table.ipynb>data table notebook</a>'\n",
              "            + ' to learn more about interactive tables.';\n",
              "          element.innerHTML = '';\n",
              "          dataTable['output_type'] = 'display_data';\n",
              "          await google.colab.output.renderOutput(dataTable, element);\n",
              "          const docLink = document.createElement('div');\n",
              "          docLink.innerHTML = docLinkHtml;\n",
              "          element.appendChild(docLink);\n",
              "        }\n",
              "      </script>\n",
              "    </div>\n",
              "  </div>\n",
              "  "
            ]
          },
          "metadata": {},
          "execution_count": 4
        }
      ]
    },
    {
      "cell_type": "code",
      "source": [
        "counts = df['variety'].copy().value_counts()\n",
        "counts.shape"
      ],
      "metadata": {
        "colab": {
          "base_uri": "https://localhost:8080/"
        },
        "id": "Vu0-Jvvylf6V",
        "outputId": "0ff4a22e-83af-43e6-eb64-3deb85daf6f5"
      },
      "execution_count": 5,
      "outputs": [
        {
          "output_type": "execute_result",
          "data": {
            "text/plain": [
              "(707,)"
            ]
          },
          "metadata": {},
          "execution_count": 5
        }
      ]
    },
    {
      "cell_type": "code",
      "source": [
        "# Removes the outliers from the dataset\n",
        "df = df[df['variety'].notna()]\n",
        "counts = df['variety'].value_counts()\n",
        "to_remove = counts[counts<1000].index\n",
        "filterd_data = df[~df['variety'].isin(to_remove)]\n",
        "filterd_data.head(4)"
      ],
      "metadata": {
        "colab": {
          "base_uri": "https://localhost:8080/",
          "height": 569
        },
        "id": "_TZUN8QVzklS",
        "outputId": "67b6fbfe-408f-4dbf-bebc-2678cc7470f2"
      },
      "execution_count": 6,
      "outputs": [
        {
          "output_type": "execute_result",
          "data": {
            "text/plain": [
              "   Unnamed: 0   country                                        description  \\\n",
              "0           0     Italy  Aromas include tropical fruit, broom, brimston...   \n",
              "1           1  Portugal  This is ripe and fruity, a wine that is smooth...   \n",
              "2           2        US  Tart and snappy, the flavors of lime flesh and...   \n",
              "3           3        US  Pineapple rind, lemon pith and orange blossom ...   \n",
              "\n",
              "            designation  points  price           province  \\\n",
              "0          Vulkà Bianco      87    NaN  Sicily & Sardinia   \n",
              "1              Avidagos      87   15.0              Douro   \n",
              "2                   NaN      87   14.0             Oregon   \n",
              "3  Reserve Late Harvest      87   13.0           Michigan   \n",
              "\n",
              "              region_1           region_2         taster_name  \\\n",
              "0                 Etna                NaN       Kerin O’Keefe   \n",
              "1                  NaN                NaN          Roger Voss   \n",
              "2    Willamette Valley  Willamette Valley        Paul Gregutt   \n",
              "3  Lake Michigan Shore                NaN  Alexander Peartree   \n",
              "\n",
              "  taster_twitter_handle                                              title  \\\n",
              "0          @kerinokeefe                  Nicosia 2013 Vulkà Bianco  (Etna)   \n",
              "1            @vossroger      Quinta dos Avidagos 2011 Avidagos Red (Douro)   \n",
              "2           @paulgwine       Rainstorm 2013 Pinot Gris (Willamette Valley)   \n",
              "3                   NaN  St. Julian 2013 Reserve Late Harvest Riesling ...   \n",
              "\n",
              "          variety               winery  Unnamed: 14  Unnamed: 15  Unnamed: 16  \n",
              "0     White Blend              Nicosia          NaN          NaN          NaN  \n",
              "1  Portuguese Red  Quinta dos Avidagos          NaN          NaN          NaN  \n",
              "2      Pinot Gris            Rainstorm          NaN          NaN          NaN  \n",
              "3        Riesling           St. Julian          NaN          NaN          NaN  "
            ],
            "text/html": [
              "\n",
              "  <div id=\"df-0291b793-5b2f-4726-8229-97d7f8e39d43\">\n",
              "    <div class=\"colab-df-container\">\n",
              "      <div>\n",
              "<style scoped>\n",
              "    .dataframe tbody tr th:only-of-type {\n",
              "        vertical-align: middle;\n",
              "    }\n",
              "\n",
              "    .dataframe tbody tr th {\n",
              "        vertical-align: top;\n",
              "    }\n",
              "\n",
              "    .dataframe thead th {\n",
              "        text-align: right;\n",
              "    }\n",
              "</style>\n",
              "<table border=\"1\" class=\"dataframe\">\n",
              "  <thead>\n",
              "    <tr style=\"text-align: right;\">\n",
              "      <th></th>\n",
              "      <th>Unnamed: 0</th>\n",
              "      <th>country</th>\n",
              "      <th>description</th>\n",
              "      <th>designation</th>\n",
              "      <th>points</th>\n",
              "      <th>price</th>\n",
              "      <th>province</th>\n",
              "      <th>region_1</th>\n",
              "      <th>region_2</th>\n",
              "      <th>taster_name</th>\n",
              "      <th>taster_twitter_handle</th>\n",
              "      <th>title</th>\n",
              "      <th>variety</th>\n",
              "      <th>winery</th>\n",
              "      <th>Unnamed: 14</th>\n",
              "      <th>Unnamed: 15</th>\n",
              "      <th>Unnamed: 16</th>\n",
              "    </tr>\n",
              "  </thead>\n",
              "  <tbody>\n",
              "    <tr>\n",
              "      <th>0</th>\n",
              "      <td>0</td>\n",
              "      <td>Italy</td>\n",
              "      <td>Aromas include tropical fruit, broom, brimston...</td>\n",
              "      <td>Vulkà Bianco</td>\n",
              "      <td>87</td>\n",
              "      <td>NaN</td>\n",
              "      <td>Sicily &amp; Sardinia</td>\n",
              "      <td>Etna</td>\n",
              "      <td>NaN</td>\n",
              "      <td>Kerin O’Keefe</td>\n",
              "      <td>@kerinokeefe</td>\n",
              "      <td>Nicosia 2013 Vulkà Bianco  (Etna)</td>\n",
              "      <td>White Blend</td>\n",
              "      <td>Nicosia</td>\n",
              "      <td>NaN</td>\n",
              "      <td>NaN</td>\n",
              "      <td>NaN</td>\n",
              "    </tr>\n",
              "    <tr>\n",
              "      <th>1</th>\n",
              "      <td>1</td>\n",
              "      <td>Portugal</td>\n",
              "      <td>This is ripe and fruity, a wine that is smooth...</td>\n",
              "      <td>Avidagos</td>\n",
              "      <td>87</td>\n",
              "      <td>15.0</td>\n",
              "      <td>Douro</td>\n",
              "      <td>NaN</td>\n",
              "      <td>NaN</td>\n",
              "      <td>Roger Voss</td>\n",
              "      <td>@vossroger</td>\n",
              "      <td>Quinta dos Avidagos 2011 Avidagos Red (Douro)</td>\n",
              "      <td>Portuguese Red</td>\n",
              "      <td>Quinta dos Avidagos</td>\n",
              "      <td>NaN</td>\n",
              "      <td>NaN</td>\n",
              "      <td>NaN</td>\n",
              "    </tr>\n",
              "    <tr>\n",
              "      <th>2</th>\n",
              "      <td>2</td>\n",
              "      <td>US</td>\n",
              "      <td>Tart and snappy, the flavors of lime flesh and...</td>\n",
              "      <td>NaN</td>\n",
              "      <td>87</td>\n",
              "      <td>14.0</td>\n",
              "      <td>Oregon</td>\n",
              "      <td>Willamette Valley</td>\n",
              "      <td>Willamette Valley</td>\n",
              "      <td>Paul Gregutt</td>\n",
              "      <td>@paulgwine</td>\n",
              "      <td>Rainstorm 2013 Pinot Gris (Willamette Valley)</td>\n",
              "      <td>Pinot Gris</td>\n",
              "      <td>Rainstorm</td>\n",
              "      <td>NaN</td>\n",
              "      <td>NaN</td>\n",
              "      <td>NaN</td>\n",
              "    </tr>\n",
              "    <tr>\n",
              "      <th>3</th>\n",
              "      <td>3</td>\n",
              "      <td>US</td>\n",
              "      <td>Pineapple rind, lemon pith and orange blossom ...</td>\n",
              "      <td>Reserve Late Harvest</td>\n",
              "      <td>87</td>\n",
              "      <td>13.0</td>\n",
              "      <td>Michigan</td>\n",
              "      <td>Lake Michigan Shore</td>\n",
              "      <td>NaN</td>\n",
              "      <td>Alexander Peartree</td>\n",
              "      <td>NaN</td>\n",
              "      <td>St. Julian 2013 Reserve Late Harvest Riesling ...</td>\n",
              "      <td>Riesling</td>\n",
              "      <td>St. Julian</td>\n",
              "      <td>NaN</td>\n",
              "      <td>NaN</td>\n",
              "      <td>NaN</td>\n",
              "    </tr>\n",
              "  </tbody>\n",
              "</table>\n",
              "</div>\n",
              "      <button class=\"colab-df-convert\" onclick=\"convertToInteractive('df-0291b793-5b2f-4726-8229-97d7f8e39d43')\"\n",
              "              title=\"Convert this dataframe to an interactive table.\"\n",
              "              style=\"display:none;\">\n",
              "        \n",
              "  <svg xmlns=\"http://www.w3.org/2000/svg\" height=\"24px\"viewBox=\"0 0 24 24\"\n",
              "       width=\"24px\">\n",
              "    <path d=\"M0 0h24v24H0V0z\" fill=\"none\"/>\n",
              "    <path d=\"M18.56 5.44l.94 2.06.94-2.06 2.06-.94-2.06-.94-.94-2.06-.94 2.06-2.06.94zm-11 1L8.5 8.5l.94-2.06 2.06-.94-2.06-.94L8.5 2.5l-.94 2.06-2.06.94zm10 10l.94 2.06.94-2.06 2.06-.94-2.06-.94-.94-2.06-.94 2.06-2.06.94z\"/><path d=\"M17.41 7.96l-1.37-1.37c-.4-.4-.92-.59-1.43-.59-.52 0-1.04.2-1.43.59L10.3 9.45l-7.72 7.72c-.78.78-.78 2.05 0 2.83L4 21.41c.39.39.9.59 1.41.59.51 0 1.02-.2 1.41-.59l7.78-7.78 2.81-2.81c.8-.78.8-2.07 0-2.86zM5.41 20L4 18.59l7.72-7.72 1.47 1.35L5.41 20z\"/>\n",
              "  </svg>\n",
              "      </button>\n",
              "      \n",
              "  <style>\n",
              "    .colab-df-container {\n",
              "      display:flex;\n",
              "      flex-wrap:wrap;\n",
              "      gap: 12px;\n",
              "    }\n",
              "\n",
              "    .colab-df-convert {\n",
              "      background-color: #E8F0FE;\n",
              "      border: none;\n",
              "      border-radius: 50%;\n",
              "      cursor: pointer;\n",
              "      display: none;\n",
              "      fill: #1967D2;\n",
              "      height: 32px;\n",
              "      padding: 0 0 0 0;\n",
              "      width: 32px;\n",
              "    }\n",
              "\n",
              "    .colab-df-convert:hover {\n",
              "      background-color: #E2EBFA;\n",
              "      box-shadow: 0px 1px 2px rgba(60, 64, 67, 0.3), 0px 1px 3px 1px rgba(60, 64, 67, 0.15);\n",
              "      fill: #174EA6;\n",
              "    }\n",
              "\n",
              "    [theme=dark] .colab-df-convert {\n",
              "      background-color: #3B4455;\n",
              "      fill: #D2E3FC;\n",
              "    }\n",
              "\n",
              "    [theme=dark] .colab-df-convert:hover {\n",
              "      background-color: #434B5C;\n",
              "      box-shadow: 0px 1px 3px 1px rgba(0, 0, 0, 0.15);\n",
              "      filter: drop-shadow(0px 1px 2px rgba(0, 0, 0, 0.3));\n",
              "      fill: #FFFFFF;\n",
              "    }\n",
              "  </style>\n",
              "\n",
              "      <script>\n",
              "        const buttonEl =\n",
              "          document.querySelector('#df-0291b793-5b2f-4726-8229-97d7f8e39d43 button.colab-df-convert');\n",
              "        buttonEl.style.display =\n",
              "          google.colab.kernel.accessAllowed ? 'block' : 'none';\n",
              "\n",
              "        async function convertToInteractive(key) {\n",
              "          const element = document.querySelector('#df-0291b793-5b2f-4726-8229-97d7f8e39d43');\n",
              "          const dataTable =\n",
              "            await google.colab.kernel.invokeFunction('convertToInteractive',\n",
              "                                                     [key], {});\n",
              "          if (!dataTable) return;\n",
              "\n",
              "          const docLinkHtml = 'Like what you see? Visit the ' +\n",
              "            '<a target=\"_blank\" href=https://colab.research.google.com/notebooks/data_table.ipynb>data table notebook</a>'\n",
              "            + ' to learn more about interactive tables.';\n",
              "          element.innerHTML = '';\n",
              "          dataTable['output_type'] = 'display_data';\n",
              "          await google.colab.output.renderOutput(dataTable, element);\n",
              "          const docLink = document.createElement('div');\n",
              "          docLink.innerHTML = docLinkHtml;\n",
              "          element.appendChild(docLink);\n",
              "        }\n",
              "      </script>\n",
              "    </div>\n",
              "  </div>\n",
              "  "
            ]
          },
          "metadata": {},
          "execution_count": 6
        }
      ]
    },
    {
      "cell_type": "code",
      "source": [
        "df['variety'].value_counts()"
      ],
      "metadata": {
        "colab": {
          "base_uri": "https://localhost:8080/"
        },
        "id": "PCdDXWM5L5GT",
        "outputId": "a02b21dd-c712-4732-b7ba-80aa50e89a9f"
      },
      "execution_count": 7,
      "outputs": [
        {
          "output_type": "execute_result",
          "data": {
            "text/plain": [
              "Pinot Noir                    13272\n",
              "Chardonnay                    11753\n",
              "Cabernet Sauvignon             9472\n",
              "Red Blend                      8946\n",
              "Bordeaux-style Red Blend       6915\n",
              "                              ...  \n",
              "Cabernet Sauvignon-Barbera        1\n",
              "Sauvignonasse                     1\n",
              "Forcallà                          1\n",
              "Meseguera                         1\n",
              "Bobal-Cabernet Sauvignon          1\n",
              "Name: variety, Length: 707, dtype: int64"
            ]
          },
          "metadata": {},
          "execution_count": 7
        }
      ]
    },
    {
      "cell_type": "code",
      "source": [
        "# creating new df just for input and outpur\n",
        "new_df = df[['description', 'variety']]\n",
        "#checking the data description fot white blend catogaory \n",
        "new_df[new_df['variety']=='White Blend']"
      ],
      "metadata": {
        "colab": {
          "base_uri": "https://localhost:8080/",
          "height": 424
        },
        "id": "crvmeU2vNN8V",
        "outputId": "5f07fd08-3585-4604-cf52-02afd23111f1"
      },
      "execution_count": 8,
      "outputs": [
        {
          "output_type": "execute_result",
          "data": {
            "text/plain": [
              "                                              description      variety\n",
              "0       Aromas include tropical fruit, broom, brimston...  White Blend\n",
              "22      Delicate aromas recall white flower and citrus...  White Blend\n",
              "26      Pretty aromas of yellow flower and stone fruit...  White Blend\n",
              "32      Part of the extended Calanìca series, this Gri...  White Blend\n",
              "105     Made predominantly with Trebbiano and Malvasia...  White Blend\n",
              "...                                                   ...          ...\n",
              "129841  This Bradgate blend of Chenin and Sauvignon Bl...  White Blend\n",
              "129884  After 23 months in barrel, this Viura-Malvasia...  White Blend\n",
              "129899  Aged entirely in stainless steel, this combine...  White Blend\n",
              "129933  Bründlmayer makes a particularly felicitous br...  White Blend\n",
              "129939  A true TBA, its very rich, toffee-flavored, in...  White Blend\n",
              "\n",
              "[2360 rows x 2 columns]"
            ],
            "text/html": [
              "\n",
              "  <div id=\"df-c0f2da3a-f02e-487d-a76b-d65dc92a575c\">\n",
              "    <div class=\"colab-df-container\">\n",
              "      <div>\n",
              "<style scoped>\n",
              "    .dataframe tbody tr th:only-of-type {\n",
              "        vertical-align: middle;\n",
              "    }\n",
              "\n",
              "    .dataframe tbody tr th {\n",
              "        vertical-align: top;\n",
              "    }\n",
              "\n",
              "    .dataframe thead th {\n",
              "        text-align: right;\n",
              "    }\n",
              "</style>\n",
              "<table border=\"1\" class=\"dataframe\">\n",
              "  <thead>\n",
              "    <tr style=\"text-align: right;\">\n",
              "      <th></th>\n",
              "      <th>description</th>\n",
              "      <th>variety</th>\n",
              "    </tr>\n",
              "  </thead>\n",
              "  <tbody>\n",
              "    <tr>\n",
              "      <th>0</th>\n",
              "      <td>Aromas include tropical fruit, broom, brimston...</td>\n",
              "      <td>White Blend</td>\n",
              "    </tr>\n",
              "    <tr>\n",
              "      <th>22</th>\n",
              "      <td>Delicate aromas recall white flower and citrus...</td>\n",
              "      <td>White Blend</td>\n",
              "    </tr>\n",
              "    <tr>\n",
              "      <th>26</th>\n",
              "      <td>Pretty aromas of yellow flower and stone fruit...</td>\n",
              "      <td>White Blend</td>\n",
              "    </tr>\n",
              "    <tr>\n",
              "      <th>32</th>\n",
              "      <td>Part of the extended Calanìca series, this Gri...</td>\n",
              "      <td>White Blend</td>\n",
              "    </tr>\n",
              "    <tr>\n",
              "      <th>105</th>\n",
              "      <td>Made predominantly with Trebbiano and Malvasia...</td>\n",
              "      <td>White Blend</td>\n",
              "    </tr>\n",
              "    <tr>\n",
              "      <th>...</th>\n",
              "      <td>...</td>\n",
              "      <td>...</td>\n",
              "    </tr>\n",
              "    <tr>\n",
              "      <th>129841</th>\n",
              "      <td>This Bradgate blend of Chenin and Sauvignon Bl...</td>\n",
              "      <td>White Blend</td>\n",
              "    </tr>\n",
              "    <tr>\n",
              "      <th>129884</th>\n",
              "      <td>After 23 months in barrel, this Viura-Malvasia...</td>\n",
              "      <td>White Blend</td>\n",
              "    </tr>\n",
              "    <tr>\n",
              "      <th>129899</th>\n",
              "      <td>Aged entirely in stainless steel, this combine...</td>\n",
              "      <td>White Blend</td>\n",
              "    </tr>\n",
              "    <tr>\n",
              "      <th>129933</th>\n",
              "      <td>Bründlmayer makes a particularly felicitous br...</td>\n",
              "      <td>White Blend</td>\n",
              "    </tr>\n",
              "    <tr>\n",
              "      <th>129939</th>\n",
              "      <td>A true TBA, its very rich, toffee-flavored, in...</td>\n",
              "      <td>White Blend</td>\n",
              "    </tr>\n",
              "  </tbody>\n",
              "</table>\n",
              "<p>2360 rows × 2 columns</p>\n",
              "</div>\n",
              "      <button class=\"colab-df-convert\" onclick=\"convertToInteractive('df-c0f2da3a-f02e-487d-a76b-d65dc92a575c')\"\n",
              "              title=\"Convert this dataframe to an interactive table.\"\n",
              "              style=\"display:none;\">\n",
              "        \n",
              "  <svg xmlns=\"http://www.w3.org/2000/svg\" height=\"24px\"viewBox=\"0 0 24 24\"\n",
              "       width=\"24px\">\n",
              "    <path d=\"M0 0h24v24H0V0z\" fill=\"none\"/>\n",
              "    <path d=\"M18.56 5.44l.94 2.06.94-2.06 2.06-.94-2.06-.94-.94-2.06-.94 2.06-2.06.94zm-11 1L8.5 8.5l.94-2.06 2.06-.94-2.06-.94L8.5 2.5l-.94 2.06-2.06.94zm10 10l.94 2.06.94-2.06 2.06-.94-2.06-.94-.94-2.06-.94 2.06-2.06.94z\"/><path d=\"M17.41 7.96l-1.37-1.37c-.4-.4-.92-.59-1.43-.59-.52 0-1.04.2-1.43.59L10.3 9.45l-7.72 7.72c-.78.78-.78 2.05 0 2.83L4 21.41c.39.39.9.59 1.41.59.51 0 1.02-.2 1.41-.59l7.78-7.78 2.81-2.81c.8-.78.8-2.07 0-2.86zM5.41 20L4 18.59l7.72-7.72 1.47 1.35L5.41 20z\"/>\n",
              "  </svg>\n",
              "      </button>\n",
              "      \n",
              "  <style>\n",
              "    .colab-df-container {\n",
              "      display:flex;\n",
              "      flex-wrap:wrap;\n",
              "      gap: 12px;\n",
              "    }\n",
              "\n",
              "    .colab-df-convert {\n",
              "      background-color: #E8F0FE;\n",
              "      border: none;\n",
              "      border-radius: 50%;\n",
              "      cursor: pointer;\n",
              "      display: none;\n",
              "      fill: #1967D2;\n",
              "      height: 32px;\n",
              "      padding: 0 0 0 0;\n",
              "      width: 32px;\n",
              "    }\n",
              "\n",
              "    .colab-df-convert:hover {\n",
              "      background-color: #E2EBFA;\n",
              "      box-shadow: 0px 1px 2px rgba(60, 64, 67, 0.3), 0px 1px 3px 1px rgba(60, 64, 67, 0.15);\n",
              "      fill: #174EA6;\n",
              "    }\n",
              "\n",
              "    [theme=dark] .colab-df-convert {\n",
              "      background-color: #3B4455;\n",
              "      fill: #D2E3FC;\n",
              "    }\n",
              "\n",
              "    [theme=dark] .colab-df-convert:hover {\n",
              "      background-color: #434B5C;\n",
              "      box-shadow: 0px 1px 3px 1px rgba(0, 0, 0, 0.15);\n",
              "      filter: drop-shadow(0px 1px 2px rgba(0, 0, 0, 0.3));\n",
              "      fill: #FFFFFF;\n",
              "    }\n",
              "  </style>\n",
              "\n",
              "      <script>\n",
              "        const buttonEl =\n",
              "          document.querySelector('#df-c0f2da3a-f02e-487d-a76b-d65dc92a575c button.colab-df-convert');\n",
              "        buttonEl.style.display =\n",
              "          google.colab.kernel.accessAllowed ? 'block' : 'none';\n",
              "\n",
              "        async function convertToInteractive(key) {\n",
              "          const element = document.querySelector('#df-c0f2da3a-f02e-487d-a76b-d65dc92a575c');\n",
              "          const dataTable =\n",
              "            await google.colab.kernel.invokeFunction('convertToInteractive',\n",
              "                                                     [key], {});\n",
              "          if (!dataTable) return;\n",
              "\n",
              "          const docLinkHtml = 'Like what you see? Visit the ' +\n",
              "            '<a target=\"_blank\" href=https://colab.research.google.com/notebooks/data_table.ipynb>data table notebook</a>'\n",
              "            + ' to learn more about interactive tables.';\n",
              "          element.innerHTML = '';\n",
              "          dataTable['output_type'] = 'display_data';\n",
              "          await google.colab.output.renderOutput(dataTable, element);\n",
              "          const docLink = document.createElement('div');\n",
              "          docLink.innerHTML = docLinkHtml;\n",
              "          element.appendChild(docLink);\n",
              "        }\n",
              "      </script>\n",
              "    </div>\n",
              "  </div>\n",
              "  "
            ]
          },
          "metadata": {},
          "execution_count": 8
        }
      ]
    },
    {
      "cell_type": "code",
      "source": [
        "new_df[new_df['variety']=='Riesling']"
      ],
      "metadata": {
        "colab": {
          "base_uri": "https://localhost:8080/",
          "height": 424
        },
        "id": "E_U1oGvgEjfJ",
        "outputId": "4afacda1-63a4-4dbd-bdf1-c0f8a6679514"
      },
      "execution_count": 9,
      "outputs": [
        {
          "output_type": "execute_result",
          "data": {
            "text/plain": [
              "                                              description   variety\n",
              "3       Pineapple rind, lemon pith and orange blossom ...  Riesling\n",
              "15      Zesty orange peels and apple notes abound in t...  Riesling\n",
              "47      This is a sweet wine with flavors of white sug...  Riesling\n",
              "76      Earthy pollen and mineral notes lend a savory ...  Riesling\n",
              "85      Pronounced dust, pollen and earth tones lend s...  Riesling\n",
              "...                                                   ...       ...\n",
              "129918  Despite plenty of honeyed sweetness, this wine...  Riesling\n",
              "129923  Thick, oily and sweet, this wine is clearly no...  Riesling\n",
              "129924  Imagine honeyed orange sections—that's what th...  Riesling\n",
              "129946  Plump, clingy peach and honey notes are cut wi...  Riesling\n",
              "129966  Notes of honeysuckle and cantaloupe sweeten th...  Riesling\n",
              "\n",
              "[5189 rows x 2 columns]"
            ],
            "text/html": [
              "\n",
              "  <div id=\"df-acbb4e6b-7fb6-4d9c-a23c-02ec3a22b925\">\n",
              "    <div class=\"colab-df-container\">\n",
              "      <div>\n",
              "<style scoped>\n",
              "    .dataframe tbody tr th:only-of-type {\n",
              "        vertical-align: middle;\n",
              "    }\n",
              "\n",
              "    .dataframe tbody tr th {\n",
              "        vertical-align: top;\n",
              "    }\n",
              "\n",
              "    .dataframe thead th {\n",
              "        text-align: right;\n",
              "    }\n",
              "</style>\n",
              "<table border=\"1\" class=\"dataframe\">\n",
              "  <thead>\n",
              "    <tr style=\"text-align: right;\">\n",
              "      <th></th>\n",
              "      <th>description</th>\n",
              "      <th>variety</th>\n",
              "    </tr>\n",
              "  </thead>\n",
              "  <tbody>\n",
              "    <tr>\n",
              "      <th>3</th>\n",
              "      <td>Pineapple rind, lemon pith and orange blossom ...</td>\n",
              "      <td>Riesling</td>\n",
              "    </tr>\n",
              "    <tr>\n",
              "      <th>15</th>\n",
              "      <td>Zesty orange peels and apple notes abound in t...</td>\n",
              "      <td>Riesling</td>\n",
              "    </tr>\n",
              "    <tr>\n",
              "      <th>47</th>\n",
              "      <td>This is a sweet wine with flavors of white sug...</td>\n",
              "      <td>Riesling</td>\n",
              "    </tr>\n",
              "    <tr>\n",
              "      <th>76</th>\n",
              "      <td>Earthy pollen and mineral notes lend a savory ...</td>\n",
              "      <td>Riesling</td>\n",
              "    </tr>\n",
              "    <tr>\n",
              "      <th>85</th>\n",
              "      <td>Pronounced dust, pollen and earth tones lend s...</td>\n",
              "      <td>Riesling</td>\n",
              "    </tr>\n",
              "    <tr>\n",
              "      <th>...</th>\n",
              "      <td>...</td>\n",
              "      <td>...</td>\n",
              "    </tr>\n",
              "    <tr>\n",
              "      <th>129918</th>\n",
              "      <td>Despite plenty of honeyed sweetness, this wine...</td>\n",
              "      <td>Riesling</td>\n",
              "    </tr>\n",
              "    <tr>\n",
              "      <th>129923</th>\n",
              "      <td>Thick, oily and sweet, this wine is clearly no...</td>\n",
              "      <td>Riesling</td>\n",
              "    </tr>\n",
              "    <tr>\n",
              "      <th>129924</th>\n",
              "      <td>Imagine honeyed orange sections—that's what th...</td>\n",
              "      <td>Riesling</td>\n",
              "    </tr>\n",
              "    <tr>\n",
              "      <th>129946</th>\n",
              "      <td>Plump, clingy peach and honey notes are cut wi...</td>\n",
              "      <td>Riesling</td>\n",
              "    </tr>\n",
              "    <tr>\n",
              "      <th>129966</th>\n",
              "      <td>Notes of honeysuckle and cantaloupe sweeten th...</td>\n",
              "      <td>Riesling</td>\n",
              "    </tr>\n",
              "  </tbody>\n",
              "</table>\n",
              "<p>5189 rows × 2 columns</p>\n",
              "</div>\n",
              "      <button class=\"colab-df-convert\" onclick=\"convertToInteractive('df-acbb4e6b-7fb6-4d9c-a23c-02ec3a22b925')\"\n",
              "              title=\"Convert this dataframe to an interactive table.\"\n",
              "              style=\"display:none;\">\n",
              "        \n",
              "  <svg xmlns=\"http://www.w3.org/2000/svg\" height=\"24px\"viewBox=\"0 0 24 24\"\n",
              "       width=\"24px\">\n",
              "    <path d=\"M0 0h24v24H0V0z\" fill=\"none\"/>\n",
              "    <path d=\"M18.56 5.44l.94 2.06.94-2.06 2.06-.94-2.06-.94-.94-2.06-.94 2.06-2.06.94zm-11 1L8.5 8.5l.94-2.06 2.06-.94-2.06-.94L8.5 2.5l-.94 2.06-2.06.94zm10 10l.94 2.06.94-2.06 2.06-.94-2.06-.94-.94-2.06-.94 2.06-2.06.94z\"/><path d=\"M17.41 7.96l-1.37-1.37c-.4-.4-.92-.59-1.43-.59-.52 0-1.04.2-1.43.59L10.3 9.45l-7.72 7.72c-.78.78-.78 2.05 0 2.83L4 21.41c.39.39.9.59 1.41.59.51 0 1.02-.2 1.41-.59l7.78-7.78 2.81-2.81c.8-.78.8-2.07 0-2.86zM5.41 20L4 18.59l7.72-7.72 1.47 1.35L5.41 20z\"/>\n",
              "  </svg>\n",
              "      </button>\n",
              "      \n",
              "  <style>\n",
              "    .colab-df-container {\n",
              "      display:flex;\n",
              "      flex-wrap:wrap;\n",
              "      gap: 12px;\n",
              "    }\n",
              "\n",
              "    .colab-df-convert {\n",
              "      background-color: #E8F0FE;\n",
              "      border: none;\n",
              "      border-radius: 50%;\n",
              "      cursor: pointer;\n",
              "      display: none;\n",
              "      fill: #1967D2;\n",
              "      height: 32px;\n",
              "      padding: 0 0 0 0;\n",
              "      width: 32px;\n",
              "    }\n",
              "\n",
              "    .colab-df-convert:hover {\n",
              "      background-color: #E2EBFA;\n",
              "      box-shadow: 0px 1px 2px rgba(60, 64, 67, 0.3), 0px 1px 3px 1px rgba(60, 64, 67, 0.15);\n",
              "      fill: #174EA6;\n",
              "    }\n",
              "\n",
              "    [theme=dark] .colab-df-convert {\n",
              "      background-color: #3B4455;\n",
              "      fill: #D2E3FC;\n",
              "    }\n",
              "\n",
              "    [theme=dark] .colab-df-convert:hover {\n",
              "      background-color: #434B5C;\n",
              "      box-shadow: 0px 1px 3px 1px rgba(0, 0, 0, 0.15);\n",
              "      filter: drop-shadow(0px 1px 2px rgba(0, 0, 0, 0.3));\n",
              "      fill: #FFFFFF;\n",
              "    }\n",
              "  </style>\n",
              "\n",
              "      <script>\n",
              "        const buttonEl =\n",
              "          document.querySelector('#df-acbb4e6b-7fb6-4d9c-a23c-02ec3a22b925 button.colab-df-convert');\n",
              "        buttonEl.style.display =\n",
              "          google.colab.kernel.accessAllowed ? 'block' : 'none';\n",
              "\n",
              "        async function convertToInteractive(key) {\n",
              "          const element = document.querySelector('#df-acbb4e6b-7fb6-4d9c-a23c-02ec3a22b925');\n",
              "          const dataTable =\n",
              "            await google.colab.kernel.invokeFunction('convertToInteractive',\n",
              "                                                     [key], {});\n",
              "          if (!dataTable) return;\n",
              "\n",
              "          const docLinkHtml = 'Like what you see? Visit the ' +\n",
              "            '<a target=\"_blank\" href=https://colab.research.google.com/notebooks/data_table.ipynb>data table notebook</a>'\n",
              "            + ' to learn more about interactive tables.';\n",
              "          element.innerHTML = '';\n",
              "          dataTable['output_type'] = 'display_data';\n",
              "          await google.colab.output.renderOutput(dataTable, element);\n",
              "          const docLink = document.createElement('div');\n",
              "          docLink.innerHTML = docLinkHtml;\n",
              "          element.appendChild(docLink);\n",
              "        }\n",
              "      </script>\n",
              "    </div>\n",
              "  </div>\n",
              "  "
            ]
          },
          "metadata": {},
          "execution_count": 9
        }
      ]
    },
    {
      "cell_type": "code",
      "source": [
        "data_categories = filterd_data['description'].groupby(filterd_data['variety'])\n",
        "i = 1\n",
        "print('===========Original Categories =======================')\n",
        "for catName,dataCategory in data_categories:\n",
        "    print('Cat:'+str(i)+' '+catName + ' : '+ str(len(dataCategory)) )\n",
        "    i = i+1\n",
        "print('==================================')"
      ],
      "metadata": {
        "colab": {
          "base_uri": "https://localhost:8080/"
        },
        "id": "vaCk10SHkG4X",
        "outputId": "39a8d42e-5f59-439f-8a7a-11adb9377fde"
      },
      "execution_count": 10,
      "outputs": [
        {
          "output_type": "stream",
          "name": "stdout",
          "text": [
            "===========Original Categories =======================\n",
            "Cat:1 Bordeaux-style Red Blend : 6915\n",
            "Cat:2 Bordeaux-style White Blend : 1066\n",
            "Cat:3 Cabernet Franc : 1353\n",
            "Cat:4 Cabernet Sauvignon : 9472\n",
            "Cat:5 Champagne Blend : 1396\n",
            "Cat:6 Chardonnay : 11753\n",
            "Cat:7 Gamay : 1025\n",
            "Cat:8 Gewürztraminer : 1012\n",
            "Cat:9 Grüner Veltliner : 1345\n",
            "Cat:10 Malbec : 2652\n",
            "Cat:11 Merlot : 3102\n",
            "Cat:12 Nebbiolo : 2804\n",
            "Cat:13 Pinot Grigio : 1052\n",
            "Cat:14 Pinot Gris : 1455\n",
            "Cat:15 Pinot Noir : 13272\n",
            "Cat:16 Portuguese Red : 2466\n",
            "Cat:17 Portuguese White : 1159\n",
            "Cat:18 Red Blend : 8946\n",
            "Cat:19 Rhône-style Red Blend : 1471\n",
            "Cat:20 Riesling : 5189\n",
            "Cat:21 Rosé : 3564\n",
            "Cat:22 Sangiovese : 2707\n",
            "Cat:23 Sauvignon Blanc : 4967\n",
            "Cat:24 Sparkling Blend : 2153\n",
            "Cat:25 Syrah : 4142\n",
            "Cat:26 Tempranillo : 1810\n",
            "Cat:27 White Blend : 2360\n",
            "Cat:28 Zinfandel : 2714\n",
            "==================================\n"
          ]
        }
      ]
    },
    {
      "cell_type": "code",
      "source": [
        "plt.figure(figsize=(50,20))\n",
        "sns.set_theme(style=\"darkgrid\")\n",
        "ax = sns.countplot(y=\"variety\", data=filterd_data)"
      ],
      "metadata": {
        "colab": {
          "base_uri": "https://localhost:8080/",
          "height": 491
        },
        "id": "X321RZ_1jC_J",
        "outputId": "7285fd8d-531a-48bf-cbf0-a4c2cc2c74c7"
      },
      "execution_count": 11,
      "outputs": [
        {
          "output_type": "display_data",
          "data": {
            "text/plain": [
              "<Figure size 3600x1440 with 1 Axes>"
            ],
            "image/png": "[encoded data removed]"
          },
          "metadata": {
            "needs_background": "light"
          }
        }
      ]
    },
    {
      "cell_type": "code",
      "source": [
        "data = filterd_data[['description', 'variety']]"
      ],
      "metadata": {
        "id": "wytn-IQITvq7"
      },
      "execution_count": 12,
      "outputs": []
    },
    {
      "cell_type": "code",
      "source": [
        "def clean_text(text ): \n",
        "    text = text.translate(str.maketrans('', '', string.punctuation))\n",
        "    text1 = ''.join([w for w in text if not w.isdigit()]) \n",
        "    REPLACE_BY_SPACE_RE = re.compile('[/(){}\\[\\]\\|@,;]')\n",
        "    #BAD_SYMBOLS_RE = re.compile('[^0-9a-z #+_]')\n",
        "    \n",
        "    text2 = text1.lower()\n",
        "    text2 = REPLACE_BY_SPACE_RE.sub('', text2) # replace REPLACE_BY_SPACE_RE symbols by space in text\n",
        "    #text2 = BAD_SYMBOLS_RE.sub('', text2)\n",
        "    return text2\n",
        "\n",
        "def lemmatize_text(text):\n",
        "    wordlist=[]\n",
        "    lemmatizer = WordNetLemmatizer() \n",
        "    sentences=sent_tokenize(text)\n",
        "    \n",
        "    intial_sentences= sentences[0:1]\n",
        "    final_sentences = sentences[len(sentences)-2: len(sentences)-1]\n",
        "    \n",
        "    for sentence in intial_sentences:\n",
        "        words=word_tokenize(sentence)\n",
        "        for word in words:\n",
        "            wordlist.append(lemmatizer.lemmatize(word))\n",
        "    for sentence in final_sentences:\n",
        "        words=word_tokenize(sentence)\n",
        "        for word in words:\n",
        "            wordlist.append(lemmatizer.lemmatize(word))       \n",
        "    return ' '.join(wordlist) "
      ],
      "metadata": {
        "id": "IxdMtQ2Pgyf5"
      },
      "execution_count": 15,
      "outputs": []
    },
    {
      "cell_type": "code",
      "source": [
        "import nltk\n",
        "nltk.download('punkt')\n",
        "nltk.download('wordnet')\n",
        "nltk.download('omw-1.4')"
      ],
      "metadata": {
        "colab": {
          "base_uri": "https://localhost:8080/"
        },
        "id": "rztJs8YylY-q",
        "outputId": "66e58771-af10-4ba5-8602-e9ee109e82f7"
      },
      "execution_count": 22,
      "outputs": [
        {
          "output_type": "stream",
          "name": "stderr",
          "text": [
            "[nltk_data] Downloading package punkt to /root/nltk_data...\n",
            "[nltk_data]   Package punkt is already up-to-date!\n",
            "[nltk_data] Downloading package wordnet to /root/nltk_data...\n",
            "[nltk_data]   Package wordnet is already up-to-date!\n",
            "[nltk_data] Downloading package omw-1.4 to /root/nltk_data...\n"
          ]
        },
        {
          "output_type": "execute_result",
          "data": {
            "text/plain": [
              "True"
            ]
          },
          "metadata": {},
          "execution_count": 22
        }
      ]
    },
    {
      "cell_type": "code",
      "source": [
        "data['description'] = data['description'].apply(lemmatize_text)"
      ],
      "metadata": {
        "colab": {
          "base_uri": "https://localhost:8080/"
        },
        "id": "3h2aFSgulAC1",
        "outputId": "5a8258cd-5ed0-4138-efa1-1a68bb0ee388"
      },
      "execution_count": 23,
      "outputs": [
        {
          "output_type": "stream",
          "name": "stderr",
          "text": [
            "/usr/local/lib/python3.7/dist-packages/ipykernel_launcher.py:1: SettingWithCopyWarning: \n",
            "A value is trying to be set on a copy of a slice from a DataFrame.\n",
            "Try using .loc[row_indexer,col_indexer] = value instead\n",
            "\n",
            "See the caveats in the documentation: https://pandas.pydata.org/pandas-docs/stable/user_guide/indexing.html#returning-a-view-versus-a-copy\n",
            "  \"\"\"Entry point for launching an IPython kernel.\n"
          ]
        }
      ]
    },
    {
      "cell_type": "code",
      "source": [
        "data['description'] = data['description'].apply(clean_text)"
      ],
      "metadata": {
        "colab": {
          "base_uri": "https://localhost:8080/"
        },
        "id": "Ux6z4sy9lS-X",
        "outputId": "c69f06b0-b885-45f8-dcd3-fc83ccb964bc"
      },
      "execution_count": 24,
      "outputs": [
        {
          "output_type": "stream",
          "name": "stderr",
          "text": [
            "/usr/local/lib/python3.7/dist-packages/ipykernel_launcher.py:1: SettingWithCopyWarning: \n",
            "A value is trying to be set on a copy of a slice from a DataFrame.\n",
            "Try using .loc[row_indexer,col_indexer] = value instead\n",
            "\n",
            "See the caveats in the documentation: https://pandas.pydata.org/pandas-docs/stable/user_guide/indexing.html#returning-a-view-versus-a-copy\n",
            "  \"\"\"Entry point for launching an IPython kernel.\n"
          ]
        }
      ]
    },
    {
      "cell_type": "code",
      "source": [
        "print('Sample description 1:'+data.iloc[5]['description']+'\\n')"
      ],
      "metadata": {
        "colab": {
          "base_uri": "https://localhost:8080/"
        },
        "id": "I-xccmWjmJ4E",
        "outputId": "946de779-aa17-490a-b579-bdd0af9ab450"
      },
      "execution_count": 25,
      "outputs": [
        {
          "output_type": "stream",
          "name": "stdout",
          "text": [
            "Sample description 1:this dry and restrained wine offer spice in profusion  this dry and restrained wine offer spice in profusion \n",
            "\n"
          ]
        }
      ]
    },
    {
      "cell_type": "code",
      "source": [
        "vectorizer = TfidfVectorizer(analyzer='word', stop_words='english',ngram_range=(1,3), max_df=0.75, use_idf=True, smooth_idf=True, max_features=1000)\n",
        "tfIdfMat  = vectorizer.fit_transform(data['description'].tolist() )\n",
        "feature_names = sorted(vectorizer.get_feature_names())\n",
        "print(feature_names)"
      ],
      "metadata": {
        "colab": {
          "base_uri": "https://localhost:8080/"
        },
        "id": "m-BvmsXJmSvE",
        "outputId": "229838d6-9a7d-4863-f2fa-4ef4c69a6964"
      },
      "execution_count": 27,
      "outputs": [
        {
          "output_type": "stream",
          "name": "stdout",
          "text": [
            "['accent', 'accented', 'accessible', 'acid', 'acidic', 'acidity', 'acidity wine', 'add', 'aftertaste', 'age', 'aged', 'aging', 'alcohol', 'almond', 'alongside', 'ample', 'anise', 'appeal', 'appealing', 'appellation', 'apple', 'apple citrus', 'apple flavor', 'apple pear', 'approachable', 'apricot', 'aroma', 'aroma black', 'aroma blackberry', 'aroma cherry', 'aroma come', 'aroma flavor', 'aroma followed', 'aroma lead', 'aroma lead nose', 'aroma red', 'aroma ripe', 'aromas', 'aromatic', 'aromatically', 'aromatics', 'asian', 'asphalt', 'assertive', 'astringent', 'attractive', 'austere', 'backbone', 'backed', 'background', 'bacon', 'baked', 'baked apple', 'baking', 'baking spice', 'balance', 'balanced', 'balanced wine', 'balsamic', 'balsamic note', 'banana', 'barolo', 'barrel', 'barrel spice', 'based', 'basic', 'bean', 'beautiful', 'beautifully', 'beef', 'bell', 'bell pepper', 'berry', 'berry aroma', 'berry cherry', 'berry flavor', 'berry fruit', 'best', 'better', 'big', 'bit', 'bite', 'bitter', 'black', 'black cherry', 'black currant', 'black fruit', 'black licorice', 'black olive', 'black pepper', 'black plum', 'black raspberry', 'black tea', 'blackberry', 'blackberry black', 'blackberry cassis', 'blackberry cherry', 'blackberry currant', 'blackberry flavor', 'blackberry fruit', 'blackberry jam', 'blackcherry', 'blackcurrant', 'blackfruit', 'blackskinned', 'blanc', 'blend', 'blend cabernet', 'blend cabernet sauvignon', 'blend grenache', 'blend merlot', 'blend merlot cabernet', 'blend sangiovese', 'blend syrah', 'blended', 'block', 'blossom', 'blue', 'blue flower', 'blueberry', 'boast', 'bodied', 'body', 'bold', 'bone', 'bone dry', 'bordeaux', 'bordeauxstyle', 'bottle', 'bottling', 'bouquet', 'boysenberry', 'bracing', 'bramble', 'brambly', 'bread', 'bright', 'bright acidity', 'bring', 'brings', 'briny', 'brisk', 'brisk acidity', 'broad', 'brooding', 'brown', 'brown sugar', 'burnt', 'burst', 'butter', 'buttered', 'buttered toast', 'butterscotch', 'buttery', 'cab', 'cab franc', 'cabernet', 'cabernet franc', 'cabernet franc merlot', 'cabernet sauvignon', 'cabernet sauvignon cabernet', 'cabernet sauvignon merlot', 'cake', 'california', 'candied', 'candy', 'caramel', 'caramelized', 'carry', 'cassis', 'cedar', 'cellar', 'center', 'certainly', 'chalky', 'champagne', 'char', 'character', 'characteristic', 'chard', 'chardonnay', 'charred', 'cherry', 'cherry aroma', 'cherry black', 'cherry blackberry', 'cherry cassis', 'cherry cola', 'cherry currant', 'cherry flavor', 'cherry fruit', 'cherry plum', 'cherry raspberry', 'cherry red', 'chewy', 'chocolate', 'chocolate flavor', 'chocolaty', 'chopped', 'chunky', 'cigar', 'cinnamon', 'citrus', 'citrus flavor', 'citrus fruit', 'citrusy', 'classic', 'clean', 'clone', 'close', 'closed', 'clove', 'coast', 'coastal', 'cocoa', 'coconut', 'coffee', 'coffee bean', 'cola', 'color', 'combination', 'combine', 'come', 'coming', 'compelling', 'complex', 'complexity', 'component', 'concentrated', 'concentrated wine', 'concentration', 'cool', 'coolclimate', 'core', 'county', 'cranberry', 'cream', 'creamy', 'creamy texture', 'crisp', 'crisp acidity', 'crispness', 'cru', 'crushed', 'cured', 'currant', 'currant flavor', 'currant fruit', 'cut', 'cuvée', 'dark', 'dark berry', 'dark cherry', 'dark chocolate', 'dark fruit', 'dark plum', 'deep', 'deeply', 'delicate', 'delicately', 'delicious', 'deliciously', 'delivers', 'dense', 'densely', 'density', 'depth', 'despite', 'develop', 'different', 'dill', 'display', 'doe', 'doe nt', 'dominate', 'dominated', 'dominates', 'dried', 'dried black', 'dried cherry', 'dried herb', 'drink', 'drinking', 'dry', 'dry tannin', 'dry wine', 'drying', 'dryness', 'dusty', 'earth', 'earthy', 'earthy aroma', 'easy', 'easydrinking', 'easygoing', 'edge', 'effort', 'elegance', 'elegant', 'elegantly', 'element', 'emerge', 'end', 'enticing', 'entirely', 'entry', 'equal', 'especially', 'espresso', 'estate', 'estate vineyard', 'estategrown', 'eucalyptus', 'everyday', 'example', 'excellent', 'exotic', 'exotic spice', 'expression', 'expressive', 'extra', 'extracted', 'extremely', 'fairly', 'family', 'feature', 'feel', 'feeling', 'fennel', 'fermented', 'fig', 'fine', 'finegrained', 'finegrained tannin', 'finely', 'finish', 'finishing', 'firm', 'firm tannin', 'firmly', 'flavor', 'flavor black', 'flavor blackberry', 'flavor cherry', 'flavor finish', 'flavor raspberry', 'flavor ripe', 'flavor wine', 'flavored', 'flavorful', 'flavors', 'flesh', 'fleshy', 'floor', 'floral', 'flower', 'focus', 'focused', 'followed', 'food', 'forest', 'forest floor', 'form', 'forward', 'fragrance', 'fragrant', 'frame', 'framed', 'franc', 'franc merlot', 'french', 'french oak', 'fresh', 'fresh acidity', 'fresh fruity', 'freshly', 'freshness', 'friendly', 'fruit', 'fruit acidity', 'fruit aroma', 'fruit flavor', 'fruit soft', 'fruit spice', 'fruit wine', 'fruitiness', 'fruity', 'fruity wine', 'fullbodied', 'fullbodied wine', 'fully', 'funky', 'game', 'generic', 'generous', 'gentle', 'gewürztraminer', 'ginger', 'given', 'giving', 'glass', 'going', 'golden', 'good', 'gooseberry', 'gorgeous', 'grape', 'grapefruit', 'grapefruit flavor', 'graphite', 'grass', 'grassy', 'great', 'green', 'green apple', 'green herb', 'grenache', 'grenache syrah', 'grigio', 'grilled', 'grilled herb', 'grip', 'gris', 'gritty', 'ground', 'grown', 'guava', 'ha', 'ha aroma', 'half', 'hard', 'hazelnut', 'heady', 'heart', 'hearty', 'heat', 'heavy', 'herb', 'herbaceous', 'herbal', 'high', 'high alcohol', 'highlight', 'hightoned', 'hill', 'hills', 'hint', 'hints', 'hit', 'hold', 'honey', 'honeyed', 'honeysuckle', 'hot', 'immediately', 'impression', 'impressive', 'includes', 'including', 'influence', 'initially', 'integrated', 'intense', 'intensely', 'intensity', 'interesting', 'intriguing', 'inviting', 'italy', 'jam', 'jammy', 'jasmine', 'juice', 'juicy', 'juicy acidity', 'juicy black', 'just', 'kiwi', 'known', 'label', 'laced', 'lack', 'lavender', 'layer', 'layered', 'le', 'lead', 'lead nose', 'leading', 'leaf', 'leafy', 'lean', 'leather', 'leathery', 'lee', 'lemon', 'lemon lime', 'lemon zest', 'lemony', 'lend', 'length', 'level', 'licorice', 'lift', 'lifted', 'light', 'lightbodied', 'lighter', 'lightly', 'like', 'lime', 'line', 'lingering', 'little', 'lively', 'lively acidity', 'll', 'loaded', 'long', 'long finish', 'lot', 'lots', 'lovely', 'low', 'luscious', 'lush', 'lychee', 'make', 'make wine', 'making', 'malbec', 'mango', 'mark', 'marked', 'mature', 'meat', 'meaty', 'medium', 'mediumbodied', 'mediumbodied wine', 'meet', 'mellow', 'melon', 'menthol', 'merlot', 'merlot cabernet', 'merlot cabernet franc', 'merlot cabernet sauvignon', 'meyer', 'meyer lemon', 'midpalate', 'mild', 'milk', 'milk chocolate', 'mineral', 'mineral texture', 'minerality', 'minerally', 'mingle', 'mint', 'minty', 'mix', 'mixed', 'mocha', 'moderate', 'modern', 'modest', 'month', 'mountain', 'mourvèdre', 'mouth', 'mouthfeel', 'mouthwatering', 'mushroom', 'named', 'napa', 'natural', 'nebbiolo', 'nectarine', 'need', 'need time', 'nero', 'neutral', 'new', 'new french', 'new french oak', 'new leather', 'new oak', 'nice', 'nicely', 'noir', 'northern', 'nose', 'nose blend', 'nose bottling', 'nose palate', 'nose wine', 'note', 'note nose', 'nt', 'nuance', 'nut', 'nutmeg', 'nutty', 'oak', 'oak flavor', 'oaky', 'offdry', 'offdry riesling', 'offer', 'offer aroma', 'offering', 'old', 'old vine', 'olive', 'open', 'open aroma', 'opening', 'opulent', 'orange', 'orange peel', 'orange zest', 'oregon', 'overall', 'overripe', 'packed', 'pair', 'palate', 'palate delivers', 'palate offer', 'pale', 'papaya', 'passion', 'passion fruit', 'peach', 'peach flavor', 'pear', 'pear flavor', 'peel', 'pencil', 'pepper', 'peppercorn', 'peppery', 'perfect', 'perfume', 'perfumed', 'perfumed wine', 'personality', 'petal', 'petit', 'petit verdot', 'petite', 'petite sirah', 'pie', 'pine', 'pineapple', 'pink', 'pink grapefruit', 'pinot', 'pinot grigio', 'pinot gris', 'pinot noir', 'pith', 'planted', 'play', 'pleasant', 'pleasing', 'plenty', 'plum', 'plum aroma', 'plum berry', 'plum cherry', 'plum flavor', 'plum fruit', 'plump', 'plus', 'plush', 'point', 'polished', 'pomegranate', 'potential', 'power', 'powerful', 'present', 'pressed', 'pretty', 'price', 'produce', 'produced', 'producer', 'profile', 'promise', 'provide', 'provides', 'prune', 'pungent', 'pure', 'purple', 'purple flower', 'quality', 'quickly', 'quite', 'racy', 'raisin', 'range', 'raspberry', 'raspberry cherry', 'raspberry flavor', 'raspberry fruit', 'raw', 'ready', 'ready drink', 'really', 'recall', 'red', 'red apple', 'red berry', 'red berry fruit', 'red cherry', 'red currant', 'red fruit', 'red plum', 'red wine', 'redberry', 'redfruit', 'refined', 'refreshing', 'region', 'relatively', 'release', 'remains', 'reserve', 'residual', 'residual sugar', 'rest', 'restrained', 'result', 'reveal', 'reveals', 'rhubarb', 'rich', 'rich fruit', 'rich ripe', 'rich wine', 'richer', 'richly', 'richness', 'riesling', 'right', 'rind', 'ripe', 'ripe apple', 'ripe berry', 'ripe black', 'ripe blackberry', 'ripe cherry', 'ripe fruit', 'ripe fruity', 'ripe pear', 'ripe plum', 'ripe red', 'ripe wine', 'ripeness', 'riper', 'river', 'roasted', 'robust', 'rock', 'root', 'rose', 'rose petal', 'rosé', 'rough', 'round', 'rounded', 'rubber', 'rubbery', 'run', 'rustic', 'sage', 'salty', 'sandalwood', 'sangiovese', 'sangiovese merlot', 'santa', 'sauce', 'sauvignon', 'sauvignon blanc', 'sauvignon cabernet', 'sauvignon cabernet franc', 'sauvignon merlot', 'savory', 'scent', 'scorched', 'second', 'selection', 'sensation', 'sense', 'set', 'sharp', 'shine', 'showing', 'shows', 'shy', 'silky', 'simple', 'single', 'singlevineyard', 'sip', 'sirah', 'site', 'skin', 'slate', 'slight', 'slightly', 'slowly', 'small', 'smell', 'smelling', 'smoke', 'smoked', 'smoked meat', 'smoky', 'smoky oak', 'smooth', 'soft', 'soft tannin', 'soft wine', 'soften', 'softly', 'soil', 'solid', 'somewhat', 'sonoma', 'sophisticated', 'sour', 'sour cherry', 'sourced', 'southern', 'sparkler', 'sparkling', 'sparkling wine', 'spice', 'spice aroma', 'spice flavor', 'spiced', 'spicy', 'spring', 'stage', 'stainless', 'stainless steel', 'stalky', 'star', 'star anise', 'start', 'steel', 'steely', 'stewed', 'stone', 'stone fruit', 'straightforward', 'strawberry', 'strawberry fruit', 'streak', 'strong', 'strongly', 'structure', 'structured', 'structured wine', 'style', 'subdued', 'substantial', 'subtle', 'succulent', 'sugar', 'sugary', 'suggest', 'suggesting', 'suggestion', 'suggests', 'supple', 'support', 'supported', 'surprisingly', 'sweet', 'sweetness', 'syrah', 'syrah grenache', 'syrup', 'tangerine', 'tangy', 'tannic', 'tannic wine', 'tannin', 'tar', 'tart', 'taste', 'taste like', 'tasty', 'taut', 'tea', 'tempranillo', 'texture', 'textured', 'thing', 'thyme', 'tight', 'tightly', 'tightly wound', 'tilled', 'time', 'toast', 'toasted', 'toasted oak', 'toasty', 'toasty oak', 'tobacco', 'tomato', 'tone', 'touch', 'tough', 'tropical', 'tropical fruit', 'truffle', 'turn', 'typical', 'underbrush', 'unusual', 'upfront', 'valley', 'value', 'vanilla', 'vanilla flavor', 'varietal', 'varietal wine', 'variety', 'vegetal', 'velvety', 'verdot', 'vibrant', 'vine', 'vineyard', 'vintage', 'viognier', 'violet', 'vivid', 'wa', 'waft', 'warm', 'watermelon', 'wave', 'way', 'weight', 'wellbalanced', 'wet', 'whiff', 'white', 'white flower', 'white fruit', 'white peach', 'white pepper', 'white wine', 'wild', 'wild berry', 'wine', 'wine blend', 'wine brings', 'wine come', 'wine crisp', 'wine dry', 'wine fresh', 'wine ha', 'wine light', 'wine need', 'wine offer', 'wine open', 'wine packed', 'wine rich', 'wine ripe', 'wine soft', 'winemaker', 'winery', 'wood', 'wood aging', 'woodaged', 'woody', 'wound', 'wrapped', 'year', 'yeast', 'yeasty', 'yellow', 'yellow fruit', 'young', 'young wine', 'youthful', 'zest', 'zesty', 'zin', 'zinfandel']\n"
          ]
        },
        {
          "output_type": "stream",
          "name": "stderr",
          "text": [
            "/usr/local/lib/python3.7/dist-packages/sklearn/utils/deprecation.py:87: FutureWarning: Function get_feature_names is deprecated; get_feature_names is deprecated in 1.0 and will be removed in 1.2. Please use get_feature_names_out instead.\n",
            "  warnings.warn(msg, category=FutureWarning)\n"
          ]
        }
      ]
    },
    {
      "cell_type": "code",
      "source": [
        "\n",
        "pca = PCA(n_components=0.95)\n",
        "tfIdfMat_reduced = pca.fit_transform(tfIdfMat.toarray())\n",
        "labels = data['variety'].tolist()\n",
        "category_list = data.variety.unique()\n",
        "X_train, X_test, y_train, y_test = train_test_split(tfIdfMat_reduced, labels, stratify=labels,random_state=1)  "
      ],
      "metadata": {
        "id": "6-TF7e5XmZHo"
      },
      "execution_count": 29,
      "outputs": []
    },
    {
      "cell_type": "code",
      "source": [
        "print('Train_Set_Size:'+str(X_train.shape))\n",
        "print('Test_Set_Size:'+str(X_test.shape))"
      ],
      "metadata": {
        "colab": {
          "base_uri": "https://localhost:8080/"
        },
        "id": "qy4m3RS9mqX8",
        "outputId": "1da44277-48c6-42d7-abb5-a0d38cf92dfe"
      },
      "execution_count": 30,
      "outputs": [
        {
          "output_type": "stream",
          "name": "stdout",
          "text": [
            "Train_Set_Size:(77491, 813)\n",
            "Test_Set_Size:(25831, 813)\n"
          ]
        }
      ]
    },
    {
      "cell_type": "code",
      "source": [
        "clf = LogisticRegression(penalty= 'elasticnet', solver= 'saga', l1_ratio=0.5, random_state=1).fit(X_train, y_train)\n",
        "y_test_pred= clf.predict(X_test)"
      ],
      "metadata": {
        "id": "sxMOXDwfm3a0"
      },
      "execution_count": null,
      "outputs": []
    },
    {
      "cell_type": "code",
      "source": [
        "print(classification_report(y_test,y_test_pred,labels=category_list))"
      ],
      "metadata": {
        "colab": {
          "base_uri": "https://localhost:8080/"
        },
        "id": "84FgYeyZm8uX",
        "outputId": "9ea096f5-3d67-4442-9b0a-e05eb0c09a2a"
      },
      "execution_count": 60,
      "outputs": [
        {
          "output_type": "stream",
          "name": "stdout",
          "text": [
            "                            precision    recall  f1-score   support\n",
            "\n",
            "               White Blend       0.67      0.45      0.54       590\n",
            "            Portuguese Red       0.48      0.40      0.43       616\n",
            "                Pinot Gris       0.68      0.37      0.48       364\n",
            "                  Riesling       0.70      0.74      0.72      1297\n",
            "                Pinot Noir       0.57      0.78      0.66      3318\n",
            "            Gewürztraminer       0.61      0.38      0.47       253\n",
            "        Cabernet Sauvignon       0.55      0.65      0.60      2368\n",
            "                Chardonnay       0.61      0.81      0.70      2938\n",
            "                    Malbec       0.53      0.36      0.43       663\n",
            "                 Red Blend       0.59      0.57      0.58      2237\n",
            "                    Merlot       0.74      0.35      0.47       776\n",
            "                     Gamay       0.54      0.25      0.34       256\n",
            "           Sauvignon Blanc       0.60      0.61      0.60      1242\n",
            "Bordeaux-style White Blend       0.46      0.22      0.30       266\n",
            "                Sangiovese       0.55      0.40      0.46       677\n",
            "            Cabernet Franc       0.79      0.24      0.37       338\n",
            "           Champagne Blend       0.66      0.40      0.50       349\n",
            "  Bordeaux-style Red Blend       0.56      0.67      0.61      1729\n",
            "                      Rosé       0.63      0.62      0.62       891\n",
            "                 Zinfandel       0.70      0.53      0.61       679\n",
            "          Grüner Veltliner       0.66      0.45      0.53       336\n",
            "                     Syrah       0.65      0.53      0.58      1036\n",
            "                  Nebbiolo       0.67      0.73      0.70       701\n",
            "     Rhône-style Red Blend       0.77      0.47      0.58       368\n",
            "          Portuguese White       0.46      0.33      0.38       290\n",
            "           Sparkling Blend       0.64      0.50      0.56       538\n",
            "              Pinot Grigio       0.82      0.44      0.57       263\n",
            "               Tempranillo       0.41      0.37      0.39       452\n",
            "\n",
            "                  accuracy                           0.60     25831\n",
            "                 macro avg       0.62      0.49      0.53     25831\n",
            "              weighted avg       0.61      0.60      0.59     25831\n",
            "\n"
          ]
        }
      ]
    },
    {
      "cell_type": "code",
      "source": [
        "def predict_catogary(X_test, train=X_train, model=clf):\n",
        "  pred = clf.predict(X_test)\n",
        "  return category_list[pred[0]]"
      ],
      "metadata": {
        "id": "L14pCvuMpdAP"
      },
      "execution_count": 62,
      "outputs": []
    },
    {
      "cell_type": "code",
      "source": [],
      "metadata": {
        "id": "Ejbb6NgUq0La"
      },
      "execution_count": null,
      "outputs": []
    }
  ]
}